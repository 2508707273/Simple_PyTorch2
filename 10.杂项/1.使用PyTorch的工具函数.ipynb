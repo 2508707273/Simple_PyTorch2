{
 "cells": [
  {
   "cell_type": "code",
   "execution_count": 1,
   "id": "30f12d8a",
   "metadata": {
    "ExecuteTime": {
     "end_time": "2024-01-12T09:06:57.303574400Z",
     "start_time": "2024-01-12T09:06:55.328670300Z"
    }
   },
   "outputs": [
    {
     "data": {
      "text/plain": "tensor([[-0.4907, -2.7322, -0.5732],\n        [ 2.1615, -0.6050,  0.5979]])"
     },
     "execution_count": 1,
     "metadata": {},
     "output_type": "execute_result"
    }
   ],
   "source": [
    "import torch\n",
    "\n",
    "#虚拟测试数据\n",
    "x = torch.randn(2, 3)\n",
    "\n",
    "x"
   ]
  },
  {
   "cell_type": "code",
   "execution_count": 2,
   "id": "32193065",
   "metadata": {},
   "outputs": [
    {
     "data": {
      "text/plain": [
       "tensor([[0.0000, 0.0000, 2.8431],\n",
       "        [0.0000, 0.0000, 0.0000]])"
      ]
     },
     "execution_count": 2,
     "metadata": {},
     "output_type": "execute_result"
    }
   ],
   "source": [
    "#这里以relu举例子,其他的还有sigmoid,tanh等.\n",
    "torch.nn.functional.relu(x)"
   ]
  }
 ],
 "metadata": {
  "kernelspec": {
   "name": "python3",
   "language": "python",
   "display_name": "Python 3 (ipykernel)"
  },
  "language_info": {
   "codemirror_mode": {
    "name": "ipython",
    "version": 3
   },
   "file_extension": ".py",
   "mimetype": "text/x-python",
   "name": "python",
   "nbconvert_exporter": "python",
   "pygments_lexer": "ipython3",
   "version": "3.10.11"
  }
 },
 "nbformat": 4,
 "nbformat_minor": 5
}
