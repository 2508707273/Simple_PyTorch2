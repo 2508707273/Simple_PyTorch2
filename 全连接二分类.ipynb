{
 "cells": [
  {
   "cell_type": "code",
   "execution_count": 1,
   "id": "initial_id",
   "metadata": {
    "collapsed": true,
    "ExecuteTime": {
     "end_time": "2024-01-12T15:11:49.150329Z",
     "start_time": "2024-01-12T15:11:47.776159300Z"
    }
   },
   "outputs": [],
   "source": [
    "def get_rectangle():\n",
    "    import random\n",
    "\n",
    "    width = random.random()\n",
    "    height = random.random()\n",
    "\n",
    "    return width, height, int(width > height)\n",
    "\n",
    "import torch"
   ]
  },
  {
   "cell_type": "code",
   "execution_count": 2,
   "outputs": [],
   "source": [
    "class Dataset(torch.utils.data.Dataset):\n",
    "    def __init__(self, num_samples):\n",
    "        super().__init__()\n",
    "        self.num_samples = num_samples\n",
    "\n",
    "    def __getitem__(self, index):\n",
    "        width, height, label = get_rectangle()\n",
    "\n",
    "        x = torch.tensor([width, height])\n",
    "        y = torch.tensor(label)\n",
    "        return x, y\n",
    "\n",
    "    def __len__(self):\n",
    "        return self.num_samples"
   ],
   "metadata": {
    "collapsed": false,
    "ExecuteTime": {
     "end_time": "2024-01-12T15:12:00.796989600Z",
     "start_time": "2024-01-12T15:12:00.782978800Z"
    }
   },
   "id": "6271b7aa75a01440"
  },
  {
   "cell_type": "code",
   "execution_count": 4,
   "outputs": [
    {
     "name": "stdout",
     "output_type": "stream",
     "text": [
      "(tensor([0.7625, 0.4022]), tensor(1)) 1000\n"
     ]
    }
   ],
   "source": [
    "dataset = Dataset(1000)\n",
    "\n",
    "print(dataset[0],len(dataset))"
   ],
   "metadata": {
    "collapsed": false,
    "ExecuteTime": {
     "end_time": "2024-01-12T15:12:17.054997400Z",
     "start_time": "2024-01-12T15:12:17.044508400Z"
    }
   },
   "id": "c4b2488294ddd978"
  },
  {
   "cell_type": "code",
   "execution_count": 6,
   "outputs": [
    {
     "data": {
      "text/plain": "(125,\n [tensor([[0.2682, 0.8684],\n          [0.7141, 0.8181],\n          [0.5620, 0.8832],\n          [0.0116, 0.0438],\n          [0.5275, 0.8807],\n          [0.2604, 0.1186],\n          [0.2862, 0.8477],\n          [0.8112, 0.8935]]),\n  tensor([0, 0, 0, 0, 0, 1, 0, 0])])"
     },
     "execution_count": 6,
     "metadata": {},
     "output_type": "execute_result"
    }
   ],
   "source": [
    "loader = torch.utils.data.DataLoader(dataset = dataset, batch_size=8, shuffle=True, drop_last=True)\n",
    "\n",
    "len(loader),next(iter(loader))"
   ],
   "metadata": {
    "collapsed": false,
    "ExecuteTime": {
     "end_time": "2024-01-12T15:12:35.586807100Z",
     "start_time": "2024-01-12T15:12:35.578907200Z"
    }
   },
   "id": "71a54a39c7e6a37f"
  },
  {
   "cell_type": "code",
   "execution_count": 9,
   "outputs": [],
   "source": [
    "class Model2(torch.nn.Module):\n",
    "    def __init__(self):\n",
    "        super().__init__()\n",
    "        self.fc = torch.nn.Sequential(\n",
    "            torch.nn.Linear(2, 32),\n",
    "            torch.nn.ReLU(),\n",
    "            torch.nn.Linear(32, 32),\n",
    "            torch.nn.ReLU(),\n",
    "            torch.nn.Linear(32, 2),\n",
    "            torch.nn.Softmax(dim=1),\n",
    "        )\n",
    "\n",
    "    def forward(self, x):\n",
    "        y = self.fc(x)\n",
    "        return y"
   ],
   "metadata": {
    "collapsed": false,
    "ExecuteTime": {
     "end_time": "2024-01-12T15:13:10.473369400Z",
     "start_time": "2024-01-12T15:13:10.468700900Z"
    }
   },
   "id": "2de0179282c09a6f"
  },
  {
   "cell_type": "code",
   "execution_count": 10,
   "outputs": [
    {
     "name": "stdout",
     "output_type": "stream",
     "text": [
      "tensor([[0.5303, 0.4697],\n",
      "        [0.5120, 0.4880],\n",
      "        [0.4836, 0.5164],\n",
      "        [0.5303, 0.4697],\n",
      "        [0.5190, 0.4810],\n",
      "        [0.5034, 0.4966],\n",
      "        [0.5200, 0.4800],\n",
      "        [0.5271, 0.4729]], grad_fn=<SoftmaxBackward0>)\n"
     ]
    }
   ],
   "source": [
    "model2 = Model2()\n",
    "print(model2(torch.randn(8,2)))"
   ],
   "metadata": {
    "collapsed": false,
    "ExecuteTime": {
     "end_time": "2024-01-12T15:13:12.986305500Z",
     "start_time": "2024-01-12T15:13:12.981382700Z"
    }
   },
   "id": "101575feaa00dd7d"
  },
  {
   "cell_type": "code",
   "execution_count": 17,
   "outputs": [],
   "source": [
    "def train():\n",
    "    # 优化器\n",
    "    optimizer = torch.optim.Adam(model2.parameters(), lr=1e-4)\n",
    "\n",
    "    # 损失函数\n",
    "    loss_fn = torch.nn.CrossEntropyLoss()\n",
    "\n",
    "    # 训练\n",
    "    model2.train()\n",
    "\n",
    "    for epoch in range(100):\n",
    "        for i, (x, y) in enumerate(loader):\n",
    "            out = model2(x)\n",
    "            loss = loss_fn(out, y)\n",
    "            optimizer.zero_grad()\n",
    "            loss.backward()\n",
    "            optimizer.step()\n",
    "\n",
    "        if epoch % 20 == 0:\n",
    "            acc = (out.argmax(dim=1) == y).float().mean()\n",
    "            acc2 = (out.argmax(dim=1) == y).sum().item() / len(y)\n",
    "            print(f\"epoch:{epoch}, loss:{loss.item():.4f}, acc:{acc:.4f}, acc2:{acc2:.4f}\")\n",
    "\n",
    "        torch.save(model2, \"model1.model\")\n"
   ],
   "metadata": {
    "collapsed": false,
    "ExecuteTime": {
     "end_time": "2024-01-12T15:18:34.037645600Z",
     "start_time": "2024-01-12T15:18:34.025490400Z"
    }
   },
   "id": "4776084894032d95"
  },
  {
   "cell_type": "code",
   "execution_count": 18,
   "outputs": [
    {
     "name": "stdout",
     "output_type": "stream",
     "text": [
      "epoch:0, loss:0.3171, acc:1.0000, acc2:1.0000\n",
      "epoch:20, loss:0.3550, acc:1.0000, acc2:1.0000\n",
      "epoch:40, loss:0.3133, acc:1.0000, acc2:1.0000\n",
      "epoch:60, loss:0.3162, acc:1.0000, acc2:1.0000\n",
      "epoch:80, loss:0.3133, acc:1.0000, acc2:1.0000\n"
     ]
    }
   ],
   "source": [
    "train()\n"
   ],
   "metadata": {
    "collapsed": false,
    "ExecuteTime": {
     "end_time": "2024-01-12T15:18:43.680733200Z",
     "start_time": "2024-01-12T15:18:35.206152300Z"
    }
   },
   "id": "c722c77f5392e993"
  },
  {
   "cell_type": "code",
   "execution_count": 13,
   "outputs": [],
   "source": [
    "@torch.no_grad()\n",
    "def test():\n",
    "    # 从磁盘加载模型\n",
    "    model = torch.load('model1.model')\n",
    "\n",
    "    # 模型进入测试模式,关闭dropout等功能\n",
    "    model.eval()\n",
    "\n",
    "    # 获取一批数据\n",
    "    x, y = next(iter(loader))\n",
    "\n",
    "    # 模型计算结果\n",
    "    out = model(x).argmax(dim=1)\n",
    "\n",
    "    print(out, y)\n",
    "    print(out == y)"
   ],
   "metadata": {
    "collapsed": false,
    "ExecuteTime": {
     "end_time": "2024-01-12T15:13:56.246904600Z",
     "start_time": "2024-01-12T15:13:56.240385900Z"
    }
   },
   "id": "50e5c4a4f02c482d"
  },
  {
   "cell_type": "code",
   "execution_count": 14,
   "outputs": [
    {
     "name": "stdout",
     "output_type": "stream",
     "text": [
      "tensor([1, 1, 1, 0, 1, 0, 0, 1]) tensor([1, 1, 1, 0, 1, 0, 0, 1])\n",
      "tensor([True, True, True, True, True, True, True, True])\n"
     ]
    }
   ],
   "source": [
    "test()"
   ],
   "metadata": {
    "collapsed": false,
    "ExecuteTime": {
     "end_time": "2024-01-12T15:14:01.217472900Z",
     "start_time": "2024-01-12T15:14:01.203240400Z"
    }
   },
   "id": "9b13be3ccaf53c03"
  },
  {
   "cell_type": "code",
   "execution_count": null,
   "outputs": [],
   "source": [],
   "metadata": {
    "collapsed": false
   },
   "id": "9da194fe164d517c"
  }
 ],
 "metadata": {
  "kernelspec": {
   "display_name": "Python 3",
   "language": "python",
   "name": "python3"
  },
  "language_info": {
   "codemirror_mode": {
    "name": "ipython",
    "version": 2
   },
   "file_extension": ".py",
   "mimetype": "text/x-python",
   "name": "python",
   "nbconvert_exporter": "python",
   "pygments_lexer": "ipython2",
   "version": "2.7.6"
  }
 },
 "nbformat": 4,
 "nbformat_minor": 5
}
