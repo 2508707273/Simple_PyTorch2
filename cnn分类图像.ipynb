{
 "cells": [
  {
   "cell_type": "code",
   "execution_count": 1,
   "id": "initial_id",
   "metadata": {
    "collapsed": true,
    "ExecuteTime": {
     "end_time": "2024-01-13T10:32:57.378856100Z",
     "start_time": "2024-01-13T10:32:44.737990600Z"
    }
   },
   "outputs": [
    {
     "data": {
      "text/plain": "(torch.Size([3, 32, 32]), 0, 60000, 60000)"
     },
     "execution_count": 1,
     "metadata": {},
     "output_type": "execute_result"
    }
   ],
   "source": [
    "import torch\n",
    "\n",
    "def load_data():\n",
    "    import PIL.Image as Image\n",
    "    import numpy as np\n",
    "    import os\n",
    "    \n",
    "    xs = []\n",
    "    ys = []\n",
    "    \n",
    "    for filename in os.listdir('data/cifar10'):\n",
    "        if filename.endswith('.jpg'):\n",
    "            img = Image.open(f'data/cifar10/%s' % filename)\n",
    "            img = torch.FloatTensor(np.array(img))/255\n",
    "            # 把通道放到前面 3, 32, 32\n",
    "            img= img.permute(2, 0, 1)\n",
    "            y = filename.split('_')[0]\n",
    "            \n",
    "            xs.append(img)\n",
    "            ys.append(int(y))\n",
    "\n",
    "    return xs, ys\n",
    "\n",
    "xs, ys = load_data()\n",
    "xs[0].shape, ys[0],len(xs), len(ys)"
   ]
  },
  {
   "cell_type": "code",
   "execution_count": 2,
   "outputs": [
    {
     "data": {
      "text/plain": "(60000, torch.Size([3, 32, 32]), 0)"
     },
     "execution_count": 2,
     "metadata": {},
     "output_type": "execute_result"
    }
   ],
   "source": [
    "class Dataset(torch.utils.data.Dataset):\n",
    "    def __init__(self, xs, ys):\n",
    "        self.xs = xs\n",
    "        self.ys = ys\n",
    "    \n",
    "    def __getitem__(self, i):\n",
    "        return self.xs[i], self.ys[i]\n",
    "    \n",
    "    def __len__(self):\n",
    "        return len(self.xs)\n",
    "    \n",
    "dataset = Dataset(xs, ys)\n",
    "len(dataset), dataset[0][0].shape, dataset[0][1]"
   ],
   "metadata": {
    "collapsed": false,
    "ExecuteTime": {
     "end_time": "2024-01-13T10:33:00.064379400Z",
     "start_time": "2024-01-13T10:33:00.035723400Z"
    }
   },
   "id": "cb7c1dae2dbb84da"
  },
  {
   "cell_type": "code",
   "execution_count": 3,
   "outputs": [
    {
     "data": {
      "text/plain": "(torch.Size([64, 3, 32, 32]),\n torch.Size([64]),\n tensor([6, 6, 7, 6, 8, 2, 0, 6, 9, 9, 2, 2, 8, 3, 3, 5, 1, 4, 5, 4, 7, 5, 1, 0,\n         9, 7, 5, 1, 4, 9, 5, 2, 3, 1, 8, 1, 2, 9, 2, 7, 3, 9, 1, 4, 3, 9, 4, 2,\n         4, 0, 0, 6, 9, 4, 8, 3, 3, 3, 9, 4, 4, 2, 4, 5]))"
     },
     "execution_count": 3,
     "metadata": {},
     "output_type": "execute_result"
    }
   ],
   "source": [
    "dataloader = torch.utils.data.DataLoader(dataset, batch_size=64, shuffle=True,drop_last=True)\n",
    "\n",
    "data = next(iter(dataloader))\n",
    "data[0].shape, data[1].shape, data[1]"
   ],
   "metadata": {
    "collapsed": false,
    "ExecuteTime": {
     "end_time": "2024-01-13T10:33:01.417173100Z",
     "start_time": "2024-01-13T10:33:01.394166300Z"
    }
   },
   "id": "6edec6a23e50c609"
  },
  {
   "cell_type": "code",
   "execution_count": 4,
   "outputs": [
    {
     "data": {
      "text/plain": "torch.Size([64, 10])"
     },
     "execution_count": 4,
     "metadata": {},
     "output_type": "execute_result"
    }
   ],
   "source": [
    "class Model(torch.nn.Module):\n",
    "    def __init__(self):\n",
    "        super().__init__()\n",
    "        # 3, 32, 32 => 16, 32, 32\n",
    "        # Output Size = (32 + 2 * padding - kernel_size)/stride + 1 = (32- 3)/1 + 1 = 32\n",
    "        self.conv1 = torch.nn.Conv2d(3, 16, 3, padding=1)\n",
    "        # 16, 32, 32 => 32, 14, 14\n",
    "        # (32 + 2 * 0 - 5) / 2 + 1 = 14\n",
    "        self.conv2 = torch.nn.Conv2d(16, 32, 5, 2, padding=0)\n",
    "        # 32, 7, 7 => 128, 1, 1\n",
    "        # (7 + 2 * 0 - 7) / 1 + 1 = 1\n",
    "        self.conv3 = torch.nn.Conv2d(32, 128, 7, padding=0)\n",
    "        self.pool = torch.nn.MaxPool2d(2, 2)\n",
    "        self.relu = torch.nn.ReLU()\n",
    "        self.rc = torch.nn.Linear(128, 10)\n",
    "        \n",
    "    def forward(self, x):\n",
    "        # 3, 32, 32 => 16, 32, 32\n",
    "        x = self.conv1(x)\n",
    "        x = self.relu(x)\n",
    "        # 16, 32, 32 => 32, 14, 14\n",
    "        x = self.conv2(x)\n",
    "        x = self.relu(x)\n",
    "        # 32, 14, 14 => 32, 7, 7\n",
    "        x = self.pool(x)\n",
    "        # 32, 7, 7 => 128, 1, 1\n",
    "        x = self.conv3(x)\n",
    "        x = self.relu(x)\n",
    "        # 128, 1, 1 => 128\n",
    "        x = x.view(-1, 128)\n",
    "        # 128 => 10\n",
    "        x = self.rc(x)\n",
    "        return x\n",
    "    \n",
    "model = Model()\n",
    "model(torch.randn(64,3, 32, 32)).shape"
   ],
   "metadata": {
    "collapsed": false,
    "ExecuteTime": {
     "end_time": "2024-01-13T10:33:02.934799500Z",
     "start_time": "2024-01-13T10:33:02.886794500Z"
    }
   },
   "id": "2eb1b5278cf59039"
  },
  {
   "cell_type": "code",
   "execution_count": 6,
   "outputs": [
    {
     "name": "stdout",
     "output_type": "stream",
     "text": [
      "cuda\n",
      "0 0 2.2947757244110107 0.234375\n",
      "0 100 1.8015269041061401 0.34375\n",
      "0 200 1.6162450313568115 0.375\n",
      "0 300 1.7082611322402954 0.359375\n",
      "0 400 1.4501310586929321 0.46875\n",
      "0 500 1.3312181234359741 0.46875\n",
      "0 600 1.5734888315200806 0.359375\n",
      "0 700 1.4916167259216309 0.40625\n",
      "0 800 1.1122463941574097 0.546875\n",
      "0 900 1.2071938514709473 0.578125\n",
      "1 0 1.2324661016464233 0.625\n",
      "1 100 1.322042465209961 0.53125\n",
      "1 200 1.0986336469650269 0.625\n",
      "1 300 1.1536554098129272 0.625\n",
      "1 400 1.3185017108917236 0.53125\n",
      "1 500 1.141427755355835 0.65625\n",
      "1 600 1.1750624179840088 0.609375\n",
      "1 700 1.0907058715820312 0.59375\n",
      "1 800 1.2704440355300903 0.5625\n",
      "1 900 1.2426044940948486 0.578125\n",
      "2 0 1.111155390739441 0.59375\n",
      "2 100 0.9162545204162598 0.640625\n",
      "2 200 1.1196144819259644 0.671875\n",
      "2 300 0.9551293253898621 0.640625\n",
      "2 400 1.0592290163040161 0.625\n",
      "2 500 1.041473388671875 0.625\n",
      "2 600 1.103433609008789 0.5625\n",
      "2 700 1.0977317094802856 0.671875\n",
      "2 800 1.1878944635391235 0.578125\n",
      "2 900 0.9284736514091492 0.671875\n",
      "3 0 1.0065898895263672 0.578125\n",
      "3 100 1.0167914628982544 0.65625\n",
      "3 200 0.927518904209137 0.65625\n",
      "3 300 0.9686754941940308 0.546875\n",
      "3 400 0.9374829530715942 0.640625\n",
      "3 500 0.7441709637641907 0.6875\n",
      "3 600 1.0805824995040894 0.609375\n",
      "3 700 0.9882651567459106 0.5625\n",
      "3 800 1.0887092351913452 0.640625\n",
      "3 900 0.9118104577064514 0.703125\n",
      "4 0 1.0206087827682495 0.6875\n",
      "4 100 1.0150049924850464 0.640625\n",
      "4 200 1.0183639526367188 0.5625\n",
      "4 300 1.091620922088623 0.609375\n",
      "4 400 0.8934962749481201 0.734375\n",
      "4 500 0.9334474205970764 0.625\n",
      "4 600 0.9249721169471741 0.71875\n",
      "4 700 1.1951676607131958 0.65625\n",
      "4 800 0.8621376156806946 0.703125\n",
      "4 900 1.0083403587341309 0.640625\n",
      "5 0 1.0572835206985474 0.625\n",
      "5 100 0.7935921549797058 0.75\n",
      "5 200 0.8744361400604248 0.703125\n",
      "5 300 0.9527563452720642 0.671875\n",
      "5 400 0.8116552233695984 0.6875\n",
      "5 500 0.8187769055366516 0.671875\n",
      "5 600 1.1359107494354248 0.65625\n",
      "5 700 0.6614062190055847 0.6875\n",
      "5 800 0.8013331890106201 0.71875\n",
      "5 900 0.6469137668609619 0.8125\n",
      "6 0 0.9445159435272217 0.671875\n",
      "6 100 0.8661252856254578 0.703125\n",
      "6 200 0.7502899765968323 0.8125\n",
      "6 300 0.9248930215835571 0.6875\n",
      "6 400 0.7083961963653564 0.796875\n",
      "6 500 0.6658563613891602 0.75\n",
      "6 600 0.7394105792045593 0.6875\n",
      "6 700 0.7367859482765198 0.796875\n",
      "6 800 1.0246833562850952 0.609375\n",
      "6 900 0.7858079671859741 0.734375\n",
      "7 0 0.6942176818847656 0.75\n",
      "7 100 0.6069852113723755 0.796875\n",
      "7 200 0.7068147659301758 0.703125\n",
      "7 300 0.913257360458374 0.640625\n",
      "7 400 0.6283746361732483 0.765625\n",
      "7 500 0.6927286386489868 0.796875\n",
      "7 600 0.7664079070091248 0.703125\n",
      "7 700 0.636889636516571 0.765625\n",
      "7 800 0.8047865033149719 0.625\n",
      "7 900 0.8867391347885132 0.703125\n",
      "8 0 0.6988010406494141 0.75\n",
      "8 100 0.8021054267883301 0.75\n",
      "8 200 0.9678115844726562 0.6875\n",
      "8 300 0.8847519159317017 0.640625\n",
      "8 400 0.7572371959686279 0.703125\n",
      "8 500 0.9063143134117126 0.703125\n",
      "8 600 0.8174241781234741 0.671875\n",
      "8 700 0.5285536050796509 0.828125\n",
      "8 800 0.752317488193512 0.6875\n",
      "8 900 0.9281792640686035 0.703125\n",
      "9 0 0.5772759318351746 0.8125\n",
      "9 100 0.6762111186981201 0.75\n",
      "9 200 0.6741786599159241 0.734375\n",
      "9 300 0.5902397632598877 0.796875\n",
      "9 400 1.0895756483078003 0.625\n",
      "9 500 0.9631282687187195 0.6875\n",
      "9 600 0.8181089758872986 0.6875\n",
      "9 700 0.574341893196106 0.765625\n",
      "9 800 0.8965274095535278 0.6875\n",
      "9 900 0.7035443782806396 0.765625\n"
     ]
    }
   ],
   "source": [
    "def train():\n",
    "    # cpu 3m 3s 245ms\n",
    "    # gpu 21s 452ms\n",
    "    device = torch.device(\"cuda\" if torch.cuda.is_available() else \"cpu\")\n",
    "    print(device)\n",
    "    model = Model().to(device)\n",
    "    \n",
    "    optimizer = torch.optim.Adam(model.parameters(), lr=0.001)\n",
    "    loss_fn = torch.nn.CrossEntropyLoss()\n",
    "    for epoch in range(10):\n",
    "        for i, (x, y) in enumerate(dataloader):\n",
    "            x, y = x.to(device), y.to(device)\n",
    "            y_pred = model(x)\n",
    "            loss = loss_fn(y_pred, y)\n",
    "            optimizer.zero_grad()\n",
    "            loss.backward()\n",
    "            optimizer.step()\n",
    "            if i % 100 == 0:\n",
    "                acc = (y_pred.argmax(1) == y).float().mean()\n",
    "                print(epoch, i, loss.item(), acc.item())\n",
    "                \n",
    "    torch.save(model, 'model/3.model')\n",
    "    \n",
    "train()"
   ],
   "metadata": {
    "collapsed": false,
    "ExecuteTime": {
     "end_time": "2024-01-13T10:33:48.168741100Z",
     "start_time": "2024-01-13T10:33:26.716015700Z"
    }
   },
   "id": "60d78fee8d45bbe7"
  },
  {
   "cell_type": "code",
   "execution_count": 10,
   "outputs": [
    {
     "name": "stdout",
     "output_type": "stream",
     "text": [
      "48158.0 64000\n",
      "0.75246875\n"
     ]
    }
   ],
   "source": [
    "@torch.no_grad()\n",
    "def predict():\n",
    "    device = torch.device(\"cuda\" if torch.cuda.is_available() else \"cpu\")\n",
    "    model = torch.load('model/3.model', map_location=device)\n",
    "    model.eval()\n",
    "    \n",
    "    total = 0\n",
    "    correct = 0\n",
    "    \n",
    "    for i in range(1000):\n",
    "        x,y = next(iter(dataloader))\n",
    "        x, y = x.to(device), y.to(device)\n",
    "        y_pred = model(x)\n",
    "        # print(y_pred.shape) torch.Size([64, 10])\n",
    "        correct += (y_pred.argmax(1) == y).float().sum().item()\n",
    "        total += len(y)\n",
    "    print(correct, total)\n",
    "    print(correct/total)\n",
    "    \n",
    "predict()"
   ],
   "metadata": {
    "collapsed": false,
    "ExecuteTime": {
     "end_time": "2024-01-13T10:37:08.290866200Z",
     "start_time": "2024-01-13T10:37:05.602Z"
    }
   },
   "id": "e8fb763c76e6e174"
  },
  {
   "cell_type": "code",
   "execution_count": 12,
   "outputs": [
    {
     "name": "stdout",
     "output_type": "stream",
     "text": [
      "Correct predictions: 48115.0, Total samples: 64000\n",
      "Accuracy: 75.18%\n"
     ]
    }
   ],
   "source": [
    "@torch.no_grad()\n",
    "def predict():\n",
    "    device = torch.device(\"cpu\")\n",
    "    model = torch.load('model/3.model', map_location=device)\n",
    "    model = model.to(device)\n",
    "    model.eval()\n",
    "\n",
    "    total = 0\n",
    "    correct = 0\n",
    "\n",
    "    for i in range(1000):\n",
    "        x, y = next(iter(dataloader))\n",
    "        # x, y = x.to(device), y.to(device)  # 将数据移动到 CPU\n",
    "        y_pred = model(x)\n",
    "        correct += (y_pred.argmax(1) == y).float().sum().item()\n",
    "        total += len(y)\n",
    "\n",
    "    accuracy = correct / total\n",
    "    print(f\"Correct predictions: {correct}, Total samples: {total}\")\n",
    "    print(f\"Accuracy: {accuracy * 100:.2f}%\")\n",
    "\n",
    "predict()"
   ],
   "metadata": {
    "collapsed": false,
    "ExecuteTime": {
     "end_time": "2024-01-13T10:37:54.358431400Z",
     "start_time": "2024-01-13T10:37:49.717141Z"
    }
   },
   "id": "6830399a27240dc4"
  },
  {
   "cell_type": "code",
   "execution_count": null,
   "outputs": [],
   "source": [],
   "metadata": {
    "collapsed": false
   },
   "id": "85e812cfa727654d"
  },
  {
   "cell_type": "code",
   "execution_count": null,
   "outputs": [],
   "source": [],
   "metadata": {
    "collapsed": false
   },
   "id": "15da5a4efc3492f7"
  },
  {
   "cell_type": "code",
   "execution_count": null,
   "outputs": [],
   "source": [],
   "metadata": {
    "collapsed": false
   },
   "id": "e4c0339cc4783afb"
  },
  {
   "cell_type": "code",
   "execution_count": null,
   "outputs": [],
   "source": [],
   "metadata": {
    "collapsed": false
   },
   "id": "707e7d7dfb35ccaa"
  }
 ],
 "metadata": {
  "kernelspec": {
   "display_name": "Python 3",
   "language": "python",
   "name": "python3"
  },
  "language_info": {
   "codemirror_mode": {
    "name": "ipython",
    "version": 2
   },
   "file_extension": ".py",
   "mimetype": "text/x-python",
   "name": "python",
   "nbconvert_exporter": "python",
   "pygments_lexer": "ipython2",
   "version": "2.7.6"
  }
 },
 "nbformat": 4,
 "nbformat_minor": 5
}
