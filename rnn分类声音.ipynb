{
 "cells": [
  {
   "cell_type": "code",
   "execution_count": 17,
   "id": "initial_id",
   "metadata": {
    "collapsed": true,
    "ExecuteTime": {
     "end_time": "2024-01-13T16:41:21.330741Z",
     "start_time": "2024-01-13T16:41:11.479676800Z"
    }
   },
   "outputs": [
    {
     "data": {
      "text/plain": "(23000, 23000, torch.Size([4000, 1]), 0)"
     },
     "execution_count": 17,
     "metadata": {},
     "output_type": "execute_result"
    }
   ],
   "source": [
    "# pip install pysoundfile\n",
    "def load_data():\n",
    "    import os\n",
    "    import torchaudio\n",
    "    \n",
    "    # 0是数据 1是采样率\n",
    "    # print(torchaudio.load('data/superb/0_11.wav')[0].shape)\n",
    "    # print(torchaudio.load('data/superb/0_11.wav'))\n",
    "    \n",
    "    xs = []\n",
    "    ys = []\n",
    "    \n",
    "    for filename in os.listdir('data/superb'):\n",
    "        if filename.endswith('.wav'):\n",
    "            x, sr = torchaudio.load('data/superb/' + filename)\n",
    "            xs.append(x.transpose(0, 1))\n",
    "            ys.append(int(filename[0]))\n",
    "            \n",
    "    return xs, ys\n",
    "    \n",
    "    \n",
    "xs, ys = load_data()\n",
    "len(load_data()[0]), load_data()[0][0].shape\n",
    "len(xs), len(ys), xs[0].shape, ys[0]"
   ]
  },
  {
   "cell_type": "code",
   "execution_count": 19,
   "outputs": [
    {
     "data": {
      "text/plain": "torch.Size([4000, 1])"
     },
     "execution_count": 19,
     "metadata": {},
     "output_type": "execute_result"
    }
   ],
   "source": [
    "import  torch\n",
    "class Dataset(torch.utils.data.Dataset):\n",
    "    def __init__(self, xs, ys):\n",
    "        self.xs = xs\n",
    "        self.ys = ys\n",
    "        \n",
    "    def __len__(self):\n",
    "        return len(self.xs)\n",
    "    \n",
    "    def __getitem__(self, index):\n",
    "        return self.xs[index], self.ys[index]\n",
    "    \n",
    "dataset = Dataset(xs, ys)\n",
    "dataset[0][0].shape"
   ],
   "metadata": {
    "collapsed": false,
    "ExecuteTime": {
     "end_time": "2024-01-13T16:41:25.692279100Z",
     "start_time": "2024-01-13T16:41:25.662279500Z"
    }
   },
   "id": "7ea62bb39273867d"
  },
  {
   "cell_type": "code",
   "execution_count": 47,
   "outputs": [
    {
     "data": {
      "text/plain": "(718, torch.Size([32, 4000, 1]))"
     },
     "execution_count": 47,
     "metadata": {},
     "output_type": "execute_result"
    }
   ],
   "source": [
    "loader = torch.utils.data.DataLoader(dataset, batch_size=32, shuffle=True,drop_last=True)\n",
    "\n",
    "len(loader), next(iter(loader))[0].shape"
   ],
   "metadata": {
    "collapsed": false,
    "ExecuteTime": {
     "end_time": "2024-01-13T16:59:09.436045200Z",
     "start_time": "2024-01-13T16:59:09.417033700Z"
    }
   },
   "id": "9441f699eb511712"
  },
  {
   "cell_type": "code",
   "execution_count": 48,
   "outputs": [
    {
     "data": {
      "text/plain": "torch.Size([32, 10])"
     },
     "execution_count": 48,
     "metadata": {},
     "output_type": "execute_result"
    }
   ],
   "source": [
    "class Model(torch.nn.Module):\n",
    "    def __init__(self):\n",
    "        super().__init__()\n",
    "        # 32 4000 1 => 32 4000 16\n",
    "        self.rnn1 = torch.nn.RNN(1, 16, batch_first=True)\n",
    "        # 32 4000 2 => 32 799 16\n",
    "        # output_size = (4000 + 2 *padding - kernel_size)/stride + 1= (4000 + 2 * 0 - 7)/5 + 1 = 799\n",
    "        self.pool = torch.nn.AvgPool1d(kernel_size=7, stride=5)\n",
    "        # 32 799 16 => 32 799 32\n",
    "        self.rnn2 = torch.nn.RNN(16, 32, batch_first=True)\n",
    "        # 799 - 7)/5 + 1 = 159\n",
    "        # 32 799 32 => 32 159 32\n",
    "        # 32 159 32 => 32 159 64\n",
    "        self.rnn3 = torch.nn.RNN(32, 64, batch_first=True)\n",
    "        # (159 - 7)/5 + 1 = 31\n",
    "        # 32 159 64 => 32 31 64\n",
    "        # 32 31 64 => 32 31 128\n",
    "        self.rnn4 = torch.nn.RNN(64, 128, batch_first=True)\n",
    "        # (31 - 7)/5 + 1 = 5\n",
    "        # 32 31 128 => 32 5 128\n",
    "        # 32 5 128 => 32 640\n",
    "        # 32 640 => 32 10\n",
    "        self.fc = torch.nn.Linear(640, 10)\n",
    "        self.relu = torch.nn.ReLU()\n",
    "        \n",
    "    def forward(self, x):\n",
    "        # 32 4000 1 => 32 4000 16\n",
    "        x, _ = self.rnn1(x)\n",
    "        x = self.relu(x)\n",
    "        # 32 4000 16 => 32 799 16\n",
    "        x = self.pool(x.transpose(1, 2)).transpose(1, 2)\n",
    "        # 32 799 16 => 32 799 32\n",
    "        x, _ = self.rnn2(x)\n",
    "        x = self.relu(x)\n",
    "        # 32 799 32 => 32 159 32\n",
    "        x = self.pool(x.transpose(1, 2)).transpose(1, 2)\n",
    "        # 32 159 32 => 32 159 64\n",
    "        x, _ = self.rnn3(x)\n",
    "        x = self.relu(x)\n",
    "        # 32 159 64 => 32 31 64\n",
    "        x = self.pool(x.transpose(1, 2)).transpose(1, 2)\n",
    "        # 32 31 64 => 32 31 128\n",
    "        x, _ = self.rnn4(x)\n",
    "        x = self.relu(x)\n",
    "        # 32 31 128 => 32 5 128\n",
    "        x = self.pool(x.transpose(1, 2)).transpose(1, 2)\n",
    "        # 32 5 128 => 32 640\n",
    "        # x = x.reshape(x.shape[0], -1)\n",
    "        x = x.flatten(start_dim=1)\n",
    "        # 32 640 => 32 10\n",
    "        x = self.fc(x)\n",
    "        return x\n",
    "    \n",
    "model = Model()\n",
    "model(torch.randn(32, 4000, 1)).shape"
   ],
   "metadata": {
    "collapsed": false,
    "ExecuteTime": {
     "end_time": "2024-01-13T16:59:10.543970Z",
     "start_time": "2024-01-13T16:59:10.428695700Z"
    }
   },
   "id": "9cc40a62d88142da"
  },
  {
   "cell_type": "code",
   "execution_count": 49,
   "outputs": [
    {
     "name": "stdout",
     "output_type": "stream",
     "text": [
      "0 0 2.298471689224243 0.125\n",
      "1 0 1.5890699625015259 0.46875\n",
      "2 0 1.1918052434921265 0.53125\n",
      "3 0 0.8085414171218872 0.78125\n",
      "4 0 0.9860033392906189 0.65625\n",
      "5 0 0.7360809445381165 0.8125\n",
      "6 0 0.6946264505386353 0.6875\n",
      "7 0 0.910082221031189 0.5\n",
      "8 0 0.47498610615730286 0.84375\n",
      "9 0 0.494581401348114 0.75\n"
     ]
    }
   ],
   "source": [
    "def train():\n",
    "    driver = torch.device('cuda')\n",
    "    optimizer = torch.optim.Adam(model.parameters(), lr=0.001)\n",
    "    criterion = torch.nn.CrossEntropyLoss()\n",
    "    model.to(driver)\n",
    "    \n",
    "    \n",
    "    for epoch in range(10):\n",
    "        for i, (x, y) in enumerate(loader):\n",
    "            x = x.to(driver)\n",
    "            y = y.to(driver)\n",
    "            out = model(x)\n",
    "            loss = criterion(out, y)\n",
    "\n",
    "            loss.backward()\n",
    "            optimizer.step()\n",
    "            optimizer.zero_grad()\n",
    "\n",
    "            if i % 1000 == 0:\n",
    "                acc = (out.argmax(dim=1) == y).sum().item() / len(y)\n",
    "                print(epoch, i, loss.item(), acc)\n",
    "\n",
    "    torch.save(model, 'model/6.model')\n",
    "    \n",
    "train()"
   ],
   "metadata": {
    "collapsed": false,
    "ExecuteTime": {
     "end_time": "2024-01-13T17:00:43.873378700Z",
     "start_time": "2024-01-13T16:59:11.218899500Z"
    }
   },
   "id": "f8354d1b78b34eec"
  },
  {
   "cell_type": "markdown",
   "source": [],
   "metadata": {
    "collapsed": false
   },
   "id": "c0e982cc05a8ffbc"
  },
  {
   "cell_type": "code",
   "execution_count": 50,
   "outputs": [
    {
     "name": "stdout",
     "output_type": "stream",
     "text": [
      "0.7409375\n"
     ]
    }
   ],
   "source": [
    "@torch.no_grad()\n",
    "def test():\n",
    "    driver = torch.device('cuda')\n",
    "    model = torch.load('model/6.model')\n",
    "    model.to(driver)\n",
    "    model.eval()\n",
    "\n",
    "    correct = 0\n",
    "    total = 0\n",
    "    for i in range(100):\n",
    "        x, y = next(iter(loader))\n",
    "        x = x.to(driver)\n",
    "        y = y.to(driver)\n",
    "\n",
    "        out = model(x).argmax(dim=1)\n",
    "\n",
    "        correct += (out == y).sum().item()\n",
    "        total += len(y)\n",
    "\n",
    "    print(correct / total)\n",
    "\n",
    "\n",
    "test()"
   ],
   "metadata": {
    "collapsed": false,
    "ExecuteTime": {
     "end_time": "2024-01-13T17:00:59.624747200Z",
     "start_time": "2024-01-13T17:00:58.414564100Z"
    }
   },
   "id": "cb7239082707e6a2"
  },
  {
   "cell_type": "code",
   "execution_count": null,
   "outputs": [],
   "source": [],
   "metadata": {
    "collapsed": false
   },
   "id": "758358ffa602ed45"
  }
 ],
 "metadata": {
  "kernelspec": {
   "display_name": "Python 3",
   "language": "python",
   "name": "python3"
  },
  "language_info": {
   "codemirror_mode": {
    "name": "ipython",
    "version": 2
   },
   "file_extension": ".py",
   "mimetype": "text/x-python",
   "name": "python",
   "nbconvert_exporter": "python",
   "pygments_lexer": "ipython2",
   "version": "2.7.6"
  }
 },
 "nbformat": 4,
 "nbformat_minor": 5
}
