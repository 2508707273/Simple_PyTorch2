{
 "cells": [
  {
   "cell_type": "code",
   "execution_count": 42,
   "id": "initial_id",
   "metadata": {
    "collapsed": true,
    "ExecuteTime": {
     "end_time": "2024-01-13T08:02:08.624038500Z",
     "start_time": "2024-01-13T08:02:08.603462200Z"
    }
   },
   "outputs": [],
   "source": [
    "def get_rectangle():\n",
    "    import random\n",
    "    x = random.random()\n",
    "    y = random.random()\n",
    "    \n",
    "    area = x * y\n",
    "    \n",
    "    return x, y, area"
   ]
  },
  {
   "cell_type": "code",
   "execution_count": 43,
   "outputs": [],
   "source": [
    "import torch\n",
    "class Dataset(torch.utils.data.Dataset):\n",
    "    def __init__(self):\n",
    "        pass\n",
    "        \n",
    "    def __getitem__(self, index):\n",
    "        x, y, area = get_rectangle()\n",
    "        \n",
    "        x = torch.tensor([x, y], dtype=torch.float32)\n",
    "        area = torch.tensor([area], dtype=torch.float32)\n",
    "        return x, area\n",
    "    \n",
    "    def __len__(self):\n",
    "        return 500"
   ],
   "metadata": {
    "collapsed": false,
    "ExecuteTime": {
     "end_time": "2024-01-13T08:02:09.120771900Z",
     "start_time": "2024-01-13T08:02:09.105766400Z"
    }
   },
   "id": "5d868142f39435b"
  },
  {
   "cell_type": "code",
   "execution_count": 44,
   "outputs": [
    {
     "data": {
      "text/plain": "(50,\n [tensor([[0.5258, 0.9016],\n          [0.7050, 0.3689],\n          [0.5084, 0.6653],\n          [0.4783, 0.8781],\n          [0.2928, 0.5246],\n          [0.0718, 0.4699],\n          [0.5212, 0.1036],\n          [0.0232, 0.0239],\n          [0.3948, 0.0667],\n          [0.5993, 0.2109]]),\n  tensor([[0.4741],\n          [0.2601],\n          [0.3382],\n          [0.4200],\n          [0.1536],\n          [0.0337],\n          [0.0540],\n          [0.0006],\n          [0.0263],\n          [0.1264]])])"
     },
     "execution_count": 44,
     "metadata": {},
     "output_type": "execute_result"
    }
   ],
   "source": [
    "dataset = Dataset()\n",
    "\n",
    "loader = torch.utils.data.DataLoader(dataset, batch_size=10, shuffle=True, drop_last=True)\n",
    "\n",
    "len(loader) ,next(iter(loader))"
   ],
   "metadata": {
    "collapsed": false,
    "ExecuteTime": {
     "end_time": "2024-01-13T08:02:09.646992700Z",
     "start_time": "2024-01-13T08:02:09.635699400Z"
    }
   },
   "id": "b8dd9e1fc0e8263a"
  },
  {
   "cell_type": "code",
   "execution_count": 45,
   "outputs": [],
   "source": [
    "class Model(torch.nn.Module):\n",
    "    def __init__(self):\n",
    "        super().__init__()\n",
    "        self.fc = torch.nn.Sequential(\n",
    "            torch.nn.Linear(2, 8),\n",
    "            torch.nn.ReLU(),\n",
    "            torch.nn.Linear(8, 1)\n",
    "        )\n",
    "        \n",
    "        \n",
    "    def forward(self, x):\n",
    "        return self.fc(x)"
   ],
   "metadata": {
    "collapsed": false,
    "ExecuteTime": {
     "end_time": "2024-01-13T08:02:10.139216Z",
     "start_time": "2024-01-13T08:02:10.121211100Z"
    }
   },
   "id": "95242cf525f0519b"
  },
  {
   "cell_type": "code",
   "execution_count": 46,
   "outputs": [
    {
     "name": "stdout",
     "output_type": "stream",
     "text": [
      "Epoch: 0, Loss: 0.06644154340028763\n",
      "Epoch: 1, Loss: 0.055219102650880814\n",
      "Epoch: 2, Loss: 0.11333507299423218\n",
      "Epoch: 3, Loss: 0.08417852222919464\n",
      "Epoch: 4, Loss: 0.02003408595919609\n",
      "Epoch: 5, Loss: 0.03679004684090614\n",
      "Epoch: 6, Loss: 0.0209103561937809\n",
      "Epoch: 7, Loss: 0.011326825246214867\n",
      "Epoch: 8, Loss: 0.020358331501483917\n",
      "Epoch: 9, Loss: 0.007360717747360468\n",
      "Epoch: 10, Loss: 0.027859870344400406\n",
      "Epoch: 11, Loss: 0.01962960697710514\n",
      "Epoch: 12, Loss: 0.0070041632279753685\n",
      "Epoch: 13, Loss: 0.011542754247784615\n",
      "Epoch: 14, Loss: 0.004010643810033798\n",
      "Epoch: 15, Loss: 0.012385004200041294\n",
      "Epoch: 16, Loss: 0.0068012988194823265\n",
      "Epoch: 17, Loss: 0.00474541075527668\n",
      "Epoch: 18, Loss: 0.0030379989184439182\n",
      "Epoch: 19, Loss: 0.001724065630696714\n",
      "Epoch: 20, Loss: 0.004302193410694599\n",
      "Epoch: 21, Loss: 0.0009888079948723316\n",
      "Epoch: 22, Loss: 0.0053711337968707085\n",
      "Epoch: 23, Loss: 0.005579192191362381\n",
      "Epoch: 24, Loss: 0.0025440831668674946\n",
      "Epoch: 25, Loss: 0.005606353282928467\n",
      "Epoch: 26, Loss: 0.002354052383452654\n",
      "Epoch: 27, Loss: 0.0011134659871459007\n",
      "Epoch: 28, Loss: 0.007555549498647451\n",
      "Epoch: 29, Loss: 0.0020845711696892977\n",
      "Epoch: 30, Loss: 0.0006455271504819393\n",
      "Epoch: 31, Loss: 0.0019109348068013787\n",
      "Epoch: 32, Loss: 0.0009796642698347569\n",
      "Epoch: 33, Loss: 0.004499973263591528\n",
      "Epoch: 34, Loss: 0.001717852079309523\n",
      "Epoch: 35, Loss: 0.005042863078415394\n",
      "Epoch: 36, Loss: 0.0029774405993521214\n",
      "Epoch: 37, Loss: 0.002141905715689063\n",
      "Epoch: 38, Loss: 0.00295688072219491\n",
      "Epoch: 39, Loss: 0.0019162805983796716\n",
      "Epoch: 40, Loss: 0.003926869016140699\n",
      "Epoch: 41, Loss: 0.001250087982043624\n",
      "Epoch: 42, Loss: 0.0028758652042597532\n",
      "Epoch: 43, Loss: 0.001898646936751902\n",
      "Epoch: 44, Loss: 0.0025425353087484837\n",
      "Epoch: 45, Loss: 0.005346451885998249\n",
      "Epoch: 46, Loss: 0.0025032314006239176\n",
      "Epoch: 47, Loss: 0.0023243208415806293\n",
      "Epoch: 48, Loss: 0.0009928192012012005\n",
      "Epoch: 49, Loss: 0.0024972064420580864\n",
      "Epoch: 50, Loss: 0.002017127349972725\n",
      "Epoch: 51, Loss: 0.0005857435171492398\n",
      "Epoch: 52, Loss: 0.0027854093350470066\n",
      "Epoch: 53, Loss: 0.0017318774480372667\n",
      "Epoch: 54, Loss: 0.002471535000950098\n",
      "Epoch: 55, Loss: 0.002745826495811343\n",
      "Epoch: 56, Loss: 0.004007001873105764\n",
      "Epoch: 57, Loss: 0.003472213866189122\n",
      "Epoch: 58, Loss: 0.0015084673650562763\n",
      "Epoch: 59, Loss: 0.001198647660203278\n",
      "Epoch: 60, Loss: 0.002700106706470251\n",
      "Epoch: 61, Loss: 0.002771537285298109\n",
      "Epoch: 62, Loss: 0.0009053060784935951\n",
      "Epoch: 63, Loss: 0.0008966290624812245\n",
      "Epoch: 64, Loss: 0.0005021947436034679\n",
      "Epoch: 65, Loss: 0.0010146008571609855\n",
      "Epoch: 66, Loss: 0.0027493222150951624\n",
      "Epoch: 67, Loss: 0.003911059815436602\n",
      "Epoch: 68, Loss: 0.0023981782142072916\n",
      "Epoch: 69, Loss: 0.0026494693011045456\n",
      "Epoch: 70, Loss: 0.0018152531702071428\n",
      "Epoch: 71, Loss: 0.0014379331842064857\n",
      "Epoch: 72, Loss: 0.003621843410655856\n",
      "Epoch: 73, Loss: 0.003518459154292941\n",
      "Epoch: 74, Loss: 0.0010670529445633292\n",
      "Epoch: 75, Loss: 0.00045782956294715405\n",
      "Epoch: 76, Loss: 0.0012813409557566047\n",
      "Epoch: 77, Loss: 0.00266945268958807\n",
      "Epoch: 78, Loss: 0.0010837757727131248\n",
      "Epoch: 79, Loss: 0.0013818934094160795\n",
      "Epoch: 80, Loss: 0.0020108111202716827\n",
      "Epoch: 81, Loss: 0.001423323294147849\n",
      "Epoch: 82, Loss: 0.001415754551999271\n",
      "Epoch: 83, Loss: 0.0019102245569229126\n",
      "Epoch: 84, Loss: 0.0004635159857571125\n",
      "Epoch: 85, Loss: 0.0027442402206361294\n",
      "Epoch: 86, Loss: 0.002727268263697624\n",
      "Epoch: 87, Loss: 0.002249338198453188\n",
      "Epoch: 88, Loss: 0.001966225914657116\n",
      "Epoch: 89, Loss: 0.001022305921651423\n",
      "Epoch: 90, Loss: 0.0005632228567264974\n",
      "Epoch: 91, Loss: 0.0035955458879470825\n",
      "Epoch: 92, Loss: 0.0009693453321233392\n",
      "Epoch: 93, Loss: 0.00199469574727118\n",
      "Epoch: 94, Loss: 0.0017760032787919044\n",
      "Epoch: 95, Loss: 0.0013769961660727859\n",
      "Epoch: 96, Loss: 0.0016939677298069\n",
      "Epoch: 97, Loss: 0.002416921081021428\n",
      "Epoch: 98, Loss: 0.0010704786982387304\n",
      "Epoch: 99, Loss: 0.0008255454013124108\n"
     ]
    }
   ],
   "source": [
    "def train():\n",
    "    model = Model()\n",
    "    optimizer = torch.optim.Adam(model.parameters(), lr=0.001)\n",
    "    criterion = torch.nn.MSELoss()\n",
    "    \n",
    "    model.train()\n",
    "    \n",
    "    for epoch in range(100):\n",
    "        for i , data in enumerate(loader):\n",
    "            x, y = data\n",
    "            optimizer.zero_grad()\n",
    "            pred = model(x)\n",
    "            \n",
    "            loss = criterion(pred, y)\n",
    "            \n",
    "            loss.backward()\n",
    "            \n",
    "            optimizer.step()\n",
    "            \n",
    "        print(f'Epoch: {epoch}, Loss: {loss.item()}')\n",
    "        \n",
    "    torch.save(model, 'model/2.model')\n",
    "    \n",
    "train()"
   ],
   "metadata": {
    "collapsed": false,
    "ExecuteTime": {
     "end_time": "2024-01-13T08:02:12.724906700Z",
     "start_time": "2024-01-13T08:02:10.721682800Z"
    }
   },
   "id": "9c0c44589aa53b07"
  },
  {
   "cell_type": "code",
   "execution_count": 52,
   "outputs": [
    {
     "name": "stdout",
     "output_type": "stream",
     "text": [
      "[tensor([[0.1248],\n",
      "        [0.3782],\n",
      "        [0.0882],\n",
      "        [0.1507],\n",
      "        [0.6255],\n",
      "        [0.0559],\n",
      "        [0.4259],\n",
      "        [0.1368],\n",
      "        [0.2696],\n",
      "        [0.0250]]), tensor([[0.1105],\n",
      "        [0.3106],\n",
      "        [0.0756],\n",
      "        [0.1272],\n",
      "        [0.6584],\n",
      "        [0.0535],\n",
      "        [0.4407],\n",
      "        [0.1213],\n",
      "        [0.2361],\n",
      "        [0.0437]])]\n",
      "tensor([[0.1248, 0.1105],\n",
      "        [0.3782, 0.3106],\n",
      "        [0.0882, 0.0756],\n",
      "        [0.1507, 0.1272],\n",
      "        [0.6255, 0.6584],\n",
      "        [0.0559, 0.0535],\n",
      "        [0.4259, 0.4407],\n",
      "        [0.1368, 0.1213],\n",
      "        [0.2696, 0.2361],\n",
      "        [0.0250, 0.0437]])\n"
     ]
    }
   ],
   "source": [
    "@torch.no_grad()\n",
    "def test():\n",
    "    model = torch.load('model/2.model')\n",
    "    model.eval()\n",
    "    \n",
    "    # x = torch.tensor([0.5, 0.5])\n",
    "    x, area = next(iter(loader))\n",
    "    \n",
    "    pred = model(x)\n",
    "    print([pred, area])\n",
    "    print(torch.cat([pred, area], dim=1))\n",
    "    \n",
    "test()"
   ],
   "metadata": {
    "collapsed": false,
    "ExecuteTime": {
     "end_time": "2024-01-13T08:03:45.328834Z",
     "start_time": "2024-01-13T08:03:45.320488800Z"
    }
   },
   "id": "2ce72ac45fe4b9f8"
  },
  {
   "cell_type": "code",
   "execution_count": null,
   "outputs": [],
   "source": [],
   "metadata": {
    "collapsed": false
   },
   "id": "8b53f7159802d5b6"
  },
  {
   "cell_type": "code",
   "execution_count": null,
   "outputs": [],
   "source": [],
   "metadata": {
    "collapsed": false
   },
   "id": "4852578c8bcad706"
  }
 ],
 "metadata": {
  "kernelspec": {
   "display_name": "Python 3",
   "language": "python",
   "name": "python3"
  },
  "language_info": {
   "codemirror_mode": {
    "name": "ipython",
    "version": 2
   },
   "file_extension": ".py",
   "mimetype": "text/x-python",
   "name": "python",
   "nbconvert_exporter": "python",
   "pygments_lexer": "ipython2",
   "version": "2.7.6"
  }
 },
 "nbformat": 4,
 "nbformat_minor": 5
}
