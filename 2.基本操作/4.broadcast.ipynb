{
 "cells": [
  {
   "cell_type": "code",
   "execution_count": 1,
   "metadata": {
    "ExecuteTime": {
     "end_time": "2024-01-12T14:01:20.694616800Z",
     "start_time": "2024-01-12T14:01:19.465620100Z"
    }
   },
   "outputs": [
    {
     "name": "stdout",
     "output_type": "stream",
     "text": [
      "torch.Size([2, 3])\n",
      "torch.Size([2, 3])\n",
      "torch.Size([2, 3])\n",
      "torch.Size([2, 3])\n"
     ]
    }
   ],
   "source": [
    "import torch\n",
    "\n",
    "#broadcast 将不同形状的tensor进行计算，自动拓展低维度\n",
    "\n",
    "a = torch.randn(2, 3)\n",
    "b = torch.randn(1, 3)\n",
    "c = torch.randn(1)\n",
    "\n",
    "print((a + b).shape)\n",
    "print((a + c).shape)\n",
    "\n",
    "#手动boradcast\n",
    "print(b.expand_as(a).shape)\n",
    "print(c.expand_as(a).shape)"
   ]
  },
  {
   "cell_type": "code",
   "execution_count": null,
   "outputs": [],
   "source": [],
   "metadata": {
    "collapsed": false
   }
  }
 ],
 "metadata": {
  "kernelspec": {
   "name": "python3",
   "language": "python",
   "display_name": "Python 3 (ipykernel)"
  },
  "language_info": {
   "codemirror_mode": {
    "name": "ipython",
    "version": 3
   },
   "file_extension": ".py",
   "mimetype": "text/x-python",
   "name": "python",
   "nbconvert_exporter": "python",
   "pygments_lexer": "ipython3",
   "version": "3.10.11"
  }
 },
 "nbformat": 4,
 "nbformat_minor": 2
}
