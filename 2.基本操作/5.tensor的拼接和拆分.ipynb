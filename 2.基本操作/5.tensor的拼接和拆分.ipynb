{
 "cells": [
  {
   "cell_type": "code",
   "execution_count": 2,
   "metadata": {
    "ExecuteTime": {
     "end_time": "2024-01-12T14:12:12.962203300Z",
     "start_time": "2024-01-12T14:12:11.294688400Z"
    }
   },
   "outputs": [
    {
     "data": {
      "text/plain": "torch.Size([9, 32, 8])"
     },
     "execution_count": 2,
     "metadata": {},
     "output_type": "execute_result"
    }
   ],
   "source": [
    "import torch\n",
    "\n",
    "a = torch.rand(4, 32, 8)\n",
    "b = torch.rand(5, 32, 8)\n",
    "\n",
    "#cat拼接,dim=0是指定要拼接的维度\n",
    "torch.cat([a, b], dim=0).shape"
   ]
  },
  {
   "cell_type": "code",
   "execution_count": 2,
   "metadata": {},
   "outputs": [
    {
     "data": {
      "text/plain": [
       "torch.Size([2, 4, 32, 8])"
      ]
     },
     "execution_count": 2,
     "metadata": {},
     "output_type": "execute_result"
    }
   ],
   "source": [
    "a = torch.rand(4, 32, 8)\n",
    "b = torch.rand(4, 32, 8)\n",
    "\n",
    "#stack组合,会创建一个新的维度,用以区分组合后的两个tensor\n",
    "torch.stack([a, b], dim=0).shape"
   ]
  },
  {
   "cell_type": "code",
   "execution_count": 3,
   "metadata": {},
   "outputs": [
    {
     "name": "stdout",
     "output_type": "stream",
     "text": [
      "torch.Size([2, 32, 8])\n",
      "torch.Size([2, 32, 8])\n",
      "torch.Size([1, 32, 8])\n",
      "torch.Size([2, 32, 8])\n",
      "torch.Size([1, 32, 8])\n"
     ]
    }
   ],
   "source": [
    "a = torch.rand(4, 32, 8)\n",
    "\n",
    "#split拆分,在0维度上拆分,每2个元素1拆\n",
    "_1, _2 = a.split(2, dim=0)\n",
    "print(_1.shape)\n",
    "print(_2.shape)\n",
    "\n",
    "#split拆分,在0维度上拆分,拆分后长度分别为1,2,1\n",
    "_1, _2, _3 = a.split([1, 2, 1], dim=0)\n",
    "print(_1.shape)\n",
    "print(_2.shape)\n",
    "print(_3.shape)"
   ]
  },
  {
   "cell_type": "code",
   "execution_count": 4,
   "metadata": {
    "ExecuteTime": {
     "end_time": "2024-01-12T14:12:26.608325100Z",
     "start_time": "2024-01-12T14:12:26.604310Z"
    }
   },
   "outputs": [
    {
     "name": "stdout",
     "output_type": "stream",
     "text": [
      "torch.Size([1, 32, 8])\n",
      "torch.Size([1, 32, 8])\n"
     ]
    }
   ],
   "source": [
    "a = torch.rand(3, 32, 8)\n",
    "\n",
    "#chunk拆分,在0维度上拆分,拆成2个\n",
    "_1, _2 ,_3= a.chunk(3, dim=0)\n",
    "print(_1.shape)\n",
    "print(_2.shape)"
   ]
  },
  {
   "cell_type": "code",
   "execution_count": null,
   "outputs": [],
   "source": [],
   "metadata": {
    "collapsed": false
   }
  }
 ],
 "metadata": {
  "kernelspec": {
   "name": "python3",
   "language": "python",
   "display_name": "Python 3 (ipykernel)"
  },
  "language_info": {
   "codemirror_mode": {
    "name": "ipython",
    "version": 3
   },
   "file_extension": ".py",
   "mimetype": "text/x-python",
   "name": "python",
   "nbconvert_exporter": "python",
   "pygments_lexer": "ipython3",
   "version": "3.10.11"
  }
 },
 "nbformat": 4,
 "nbformat_minor": 2
}
