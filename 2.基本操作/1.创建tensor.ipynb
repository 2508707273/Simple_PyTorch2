{
 "cells": [
  {
   "cell_type": "code",
   "execution_count": 2,
   "metadata": {
    "ExecuteTime": {
     "end_time": "2024-01-12T09:26:09.076038100Z",
     "start_time": "2024-01-12T09:26:09.067330200Z"
    }
   },
   "outputs": [
    {
     "data": {
      "text/plain": "(tensor([1, 2]),\n tensor([[1, 2],\n         [3, 4]]))"
     },
     "execution_count": 2,
     "metadata": {},
     "output_type": "execute_result"
    }
   ],
   "source": [
    "import torch\n",
    "\n",
    "#从list创建\n",
    "torch.tensor([1, 2]), torch.tensor([[1, 2], [3, 4]])"
   ]
  },
  {
   "cell_type": "code",
   "execution_count": 3,
   "metadata": {
    "ExecuteTime": {
     "end_time": "2024-01-12T09:26:10.855636Z",
     "start_time": "2024-01-12T09:26:10.847282200Z"
    }
   },
   "outputs": [
    {
     "data": {
      "text/plain": "tensor([1, 2], dtype=torch.int32)"
     },
     "execution_count": 3,
     "metadata": {},
     "output_type": "execute_result"
    }
   ],
   "source": [
    "import numpy as np\n",
    "\n",
    "#从numpy创建\n",
    "torch.from_numpy(np.array([1, 2]))"
   ]
  },
  {
   "cell_type": "code",
   "execution_count": 4,
   "metadata": {
    "ExecuteTime": {
     "end_time": "2024-01-12T09:26:16.551444200Z",
     "start_time": "2024-01-12T09:26:16.536038600Z"
    }
   },
   "outputs": [
    {
     "name": "stdout",
     "output_type": "stream",
     "text": [
      "tensor([[1., 1., 1.],\n",
      "        [1., 1., 1.]])\n",
      "tensor([[0., 0., 0.],\n",
      "        [0., 0., 0.]])\n",
      "tensor([[7, 7, 7],\n",
      "        [7, 7, 7]])\n",
      "tensor([[1., 0., 0.],\n",
      "        [0., 1., 0.],\n",
      "        [0., 0., 1.]])\n"
     ]
    }
   ],
   "source": [
    "#全1填充\n",
    "print(torch.ones(2, 3))\n",
    "\n",
    "#全0填充\n",
    "print(torch.zeros(2, 3))\n",
    "\n",
    "#full填充\n",
    "print(torch.full([2, 3], 7))\n",
    "\n",
    "#对角矩阵\n",
    "print(torch.eye(3, 3))"
   ]
  },
  {
   "cell_type": "code",
   "execution_count": 5,
   "metadata": {
    "ExecuteTime": {
     "end_time": "2024-01-12T13:36:04.080158Z",
     "start_time": "2024-01-12T13:36:04.061926300Z"
    }
   },
   "outputs": [
    {
     "name": "stdout",
     "output_type": "stream",
     "text": [
      "tensor([[0.0000e+00, 0.0000e+00, 0.0000e+00],\n",
      "        [0.0000e+00, 0.0000e+00, 5.9694e-39]])\n",
      "tensor([[ 0.8910, -0.2646, -1.2019],\n",
      "        [ 0.8155, -0.8255,  0.1633]])\n",
      "tensor([[0.1552, 0.6845, 0.3138],\n",
      "        [0.0329, 0.3883, 0.3087]])\n",
      "tensor([[9, 5, 2],\n",
      "        [6, 9, 4]])\n"
     ]
    }
   ],
   "source": [
    "#创建但不初始化\n",
    "print(torch.empty(2, 3))\n",
    "\n",
    "#标准正态分布\n",
    "print(torch.randn(2, 3))\n",
    "\n",
    "#0-1均匀分布\n",
    "print(torch.rand(2, 3))\n",
    "\n",
    "#1-9的整数均匀分布\n",
    "print(torch.randint(1, 10, [2, 3]))"
   ]
  },
  {
   "cell_type": "code",
   "execution_count": 6,
   "metadata": {
    "ExecuteTime": {
     "end_time": "2024-01-12T13:36:45.541838400Z",
     "start_time": "2024-01-12T13:36:45.526030400Z"
    }
   },
   "outputs": [
    {
     "name": "stdout",
     "output_type": "stream",
     "text": [
      "tensor([0, 2, 4, 6, 8])\n",
      "tensor([ 0.0000,  3.3333,  6.6667, 10.0000])\n"
     ]
    }
   ],
   "source": [
    "#自增数列,0到9,步长是2\n",
    "print(torch.arange(0, 10, 2))\n",
    "\n",
    "#等差数列,0到10,4个数\n",
    "print(torch.linspace(0, 10, 4))"
   ]
  },
  {
   "cell_type": "code",
   "execution_count": 6,
   "metadata": {},
   "outputs": [
    {
     "data": {
      "text/plain": [
       "(tensor([1., 2.]), tensor([1, 2]))"
      ]
     },
     "execution_count": 6,
     "metadata": {},
     "output_type": "execute_result"
    }
   ],
   "source": [
    "#指定类型的创建\n",
    "torch.FloatTensor([1, 2]), torch.LongTensor([1, 2])"
   ]
  },
  {
   "cell_type": "code",
   "execution_count": 7,
   "metadata": {},
   "outputs": [
    {
     "data": {
      "text/plain": [
       "torch.float32"
      ]
     },
     "execution_count": 7,
     "metadata": {},
     "output_type": "execute_result"
    }
   ],
   "source": [
    "#获取数据类型\n",
    "torch.randn(2, 3).dtype"
   ]
  },
  {
   "cell_type": "code",
   "execution_count": 8,
   "metadata": {},
   "outputs": [
    {
     "data": {
      "text/plain": [
       "torch.float64"
      ]
     },
     "execution_count": 8,
     "metadata": {},
     "output_type": "execute_result"
    }
   ],
   "source": [
    "#转换数据类型\n",
    "torch.randn(2, 3).to(torch.float64).dtype"
   ]
  }
 ],
 "metadata": {
  "kernelspec": {
   "name": "python3",
   "language": "python",
   "display_name": "Python 3 (ipykernel)"
  },
  "language_info": {
   "codemirror_mode": {
    "name": "ipython",
    "version": 3
   },
   "file_extension": ".py",
   "mimetype": "text/x-python",
   "name": "python",
   "nbconvert_exporter": "python",
   "pygments_lexer": "ipython3",
   "version": "3.10.11"
  }
 },
 "nbformat": 4,
 "nbformat_minor": 2
}
