{
 "cells": [
  {
   "cell_type": "code",
   "execution_count": 2,
   "metadata": {
    "ExecuteTime": {
     "end_time": "2024-01-12T13:53:40.153347700Z",
     "start_time": "2024-01-12T13:53:38.754929700Z"
    }
   },
   "outputs": [
    {
     "name": "stdout",
     "output_type": "stream",
     "text": [
      "torch.Size([4, 1, 28, 28])\n",
      "torch.Size([4, 784])\n",
      "torch.Size([4, 28, 28])\n",
      "torch.Size([4, 784])\n"
     ]
    }
   ],
   "source": [
    "import torch\n",
    "\n",
    "#view,reshape维度变换\n",
    "\n",
    "#4张图片,单通道,28*28像素\n",
    "a = torch.randn(4, 1, 28, 28)\n",
    "print(a.shape)\n",
    "\n",
    "#转换为4,784维度,相当于打平了\n",
    "print(a.reshape(4, 784).shape)\n",
    "\n",
    "#转换为4,28,28维度,相当于重新展开\n",
    "print((a.reshape(4, 784)).reshape(4, 28, 28).shape)\n",
    "\n",
    "#view的用法和reshape是完全一样的')\n",
    "print(a.view(4, 784).shape)"
   ]
  },
  {
   "cell_type": "code",
   "execution_count": 5,
   "metadata": {
    "ExecuteTime": {
     "end_time": "2024-01-12T13:57:31.818975700Z",
     "start_time": "2024-01-12T13:57:31.794745600Z"
    }
   },
   "outputs": [
    {
     "name": "stdout",
     "output_type": "stream",
     "text": [
      "torch.Size([2, 2])\n",
      "tensor([[ 1.5198,  1.3019],\n",
      "        [ 0.0051, -0.5346]])\n",
      "tensor([[[-1.6404, -0.5800],\n",
      "         [-1.0957,  1.4132]],\n",
      "\n",
      "        [[ 0.1342,  0.4318],\n",
      "         [ 1.1067,  1.6023]]])\n",
      "torch.Size([1, 2, 2])\n",
      "tensor([[[ 1.5198,  1.3019],\n",
      "         [ 0.0051, -0.5346]]])\n",
      "torch.Size([2, 2, 1])\n",
      "tensor([[[ 1.5198],\n",
      "         [ 1.3019]],\n",
      "\n",
      "        [[ 0.0051],\n",
      "         [-0.5346]]])\n"
     ]
    }
   ],
   "source": [
    "#unsqueeze插入维度\n",
    "\n",
    "#2*2的tensor\n",
    "a = torch.randn(2, 2)\n",
    "print(a.shape)\n",
    "print(a)\n",
    "\n",
    "b = torch.randn(2, 2, 2)\n",
    "print(b)\n",
    "#插入维度在第0维\n",
    "print(a.unsqueeze(0).shape)\n",
    "print(a.unsqueeze(0))\n",
    "\n",
    "\n",
    "#插入维度在倒数第1维\n",
    "print(a.unsqueeze(-1).shape)\n",
    "print(a.unsqueeze(-1))"
   ]
  },
  {
   "cell_type": "code",
   "execution_count": 6,
   "metadata": {
    "ExecuteTime": {
     "end_time": "2024-01-12T13:57:54.941399300Z",
     "start_time": "2024-01-12T13:57:54.935392500Z"
    }
   },
   "outputs": [
    {
     "name": "stdout",
     "output_type": "stream",
     "text": [
      "torch.Size([1, 2, 2, 1])\n",
      "torch.Size([2, 2, 1])\n",
      "torch.Size([1, 2, 2])\n",
      "torch.Size([2, 2])\n"
     ]
    }
   ],
   "source": [
    "#squeeze删除维度,只能删除为1的维度\n",
    "\n",
    "#1*2*2*1的tensor\n",
    "a = torch.randn(1, 2, 2, 1)\n",
    "print(a.shape)\n",
    "\n",
    "#删除第0维\n",
    "print(a.squeeze(0).shape)\n",
    "\n",
    "#删除倒数第1维\n",
    "print(a.squeeze(-1).shape)\n",
    "\n",
    "#删除所有为1的维度\n",
    "print(a.squeeze().shape)"
   ]
  },
  {
   "cell_type": "code",
   "execution_count": 4,
   "metadata": {},
   "outputs": [
    {
     "name": "stdout",
     "output_type": "stream",
     "text": [
      "torch.Size([4, 6])\n"
     ]
    }
   ],
   "source": [
    "#repeat复制维度\n",
    "\n",
    "#分别复制2次和3次 第一个维度重复2次,第二个维度重复3次\n",
    "print(torch.randn(2, 2).repeat(2, 3).shape)"
   ]
  },
  {
   "cell_type": "code",
   "execution_count": 5,
   "metadata": {},
   "outputs": [
    {
     "name": "stdout",
     "output_type": "stream",
     "text": [
      "torch.Size([2, 1])\n",
      "torch.Size([2, 1, 3])\n",
      "torch.Size([3, 2, 1])\n"
     ]
    }
   ],
   "source": [
    "#维度交换\n",
    "\n",
    "#t转置,只能操作2维tensor\n",
    "print(torch.randn(1, 2).t().shape)\n",
    "\n",
    "#transpose维度交换,指定要转换的维度,只能两两交换\n",
    "print(torch.randn(1, 2, 3).transpose(0, 1).shape)\n",
    "\n",
    "#permute维度交换,输入维度的顺序\n",
    "print(torch.rand(1, 2, 3).permute(2, 1, 0).shape)"
   ]
  }
 ],
 "metadata": {
  "kernelspec": {
   "name": "python3",
   "language": "python",
   "display_name": "Python 3 (ipykernel)"
  },
  "language_info": {
   "codemirror_mode": {
    "name": "ipython",
    "version": 3
   },
   "file_extension": ".py",
   "mimetype": "text/x-python",
   "name": "python",
   "nbconvert_exporter": "python",
   "pygments_lexer": "ipython3",
   "version": "3.10.11"
  }
 },
 "nbformat": 4,
 "nbformat_minor": 2
}
